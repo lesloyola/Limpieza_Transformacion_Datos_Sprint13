{
 "cells": [
  {
   "cell_type": "markdown",
   "metadata": {},
   "source": [
    "El servicio de venta de autos usados Rusty Bargain está desarrollando una aplicación para atraer nuevos clientes. Gracias a esa app, puedes averiguar rápidamente el valor de mercado de tu coche. Tienes acceso al historial: especificaciones técnicas, versiones de equipamiento y precios. Tienes que crear un modelo que determine el valor de mercado.\n",
    "A Rusty Bargain le interesa:\n",
    "- la calidad de la predicción;\n",
    "- la velocidad de la predicción;\n",
    "- el tiempo requerido para el entrenamiento"
   ]
  },
  {
   "cell_type": "markdown",
   "metadata": {},
   "source": [
    "# 1 Preparación de datos"
   ]
  },
  {
   "cell_type": "code",
   "execution_count": 19,
   "metadata": {},
   "outputs": [],
   "source": [
    "# Importamos las librerías necesarias\n",
    "import pandas as pd\n",
    "import numpy as np\n",
    "import matplotlib.pyplot as plt\n",
    "import seaborn as sns\n",
    "from sklearn.model_selection import train_test_split\n",
    "from sklearn.preprocessing import OrdinalEncoder\n",
    "from sklearn.linear_model import LinearRegression\n",
    "from sklearn.metrics import mean_squared_error\n",
    "from sklearn.tree import DecisionTreeRegressor\n",
    "from sklearn.ensemble import RandomForestRegressor\n",
    "from sklearn.model_selection import GridSearchCV\n",
    "import lightgbm as lgb\n",
    "import time"
   ]
  },
  {
   "cell_type": "code",
   "execution_count": 2,
   "metadata": {},
   "outputs": [
    {
     "data": {
      "text/html": [
       "<div>\n",
       "<style scoped>\n",
       "    .dataframe tbody tr th:only-of-type {\n",
       "        vertical-align: middle;\n",
       "    }\n",
       "\n",
       "    .dataframe tbody tr th {\n",
       "        vertical-align: top;\n",
       "    }\n",
       "\n",
       "    .dataframe thead th {\n",
       "        text-align: right;\n",
       "    }\n",
       "</style>\n",
       "<table border=\"1\" class=\"dataframe\">\n",
       "  <thead>\n",
       "    <tr style=\"text-align: right;\">\n",
       "      <th></th>\n",
       "      <th>DateCrawled</th>\n",
       "      <th>Price</th>\n",
       "      <th>VehicleType</th>\n",
       "      <th>RegistrationYear</th>\n",
       "      <th>Gearbox</th>\n",
       "      <th>Power</th>\n",
       "      <th>Model</th>\n",
       "      <th>Mileage</th>\n",
       "      <th>RegistrationMonth</th>\n",
       "      <th>FuelType</th>\n",
       "      <th>Brand</th>\n",
       "      <th>NotRepaired</th>\n",
       "      <th>DateCreated</th>\n",
       "      <th>NumberOfPictures</th>\n",
       "      <th>PostalCode</th>\n",
       "      <th>LastSeen</th>\n",
       "    </tr>\n",
       "  </thead>\n",
       "  <tbody>\n",
       "    <tr>\n",
       "      <th>0</th>\n",
       "      <td>24/03/2016 11:52</td>\n",
       "      <td>480</td>\n",
       "      <td>NaN</td>\n",
       "      <td>1993</td>\n",
       "      <td>manual</td>\n",
       "      <td>0</td>\n",
       "      <td>golf</td>\n",
       "      <td>150000</td>\n",
       "      <td>0</td>\n",
       "      <td>petrol</td>\n",
       "      <td>volkswagen</td>\n",
       "      <td>NaN</td>\n",
       "      <td>24/03/2016 00:00</td>\n",
       "      <td>0</td>\n",
       "      <td>70435</td>\n",
       "      <td>07/04/2016 03:16</td>\n",
       "    </tr>\n",
       "    <tr>\n",
       "      <th>1</th>\n",
       "      <td>24/03/2016 10:58</td>\n",
       "      <td>18300</td>\n",
       "      <td>coupe</td>\n",
       "      <td>2011</td>\n",
       "      <td>manual</td>\n",
       "      <td>190</td>\n",
       "      <td>NaN</td>\n",
       "      <td>125000</td>\n",
       "      <td>5</td>\n",
       "      <td>gasoline</td>\n",
       "      <td>audi</td>\n",
       "      <td>yes</td>\n",
       "      <td>24/03/2016 00:00</td>\n",
       "      <td>0</td>\n",
       "      <td>66954</td>\n",
       "      <td>07/04/2016 01:46</td>\n",
       "    </tr>\n",
       "    <tr>\n",
       "      <th>2</th>\n",
       "      <td>14/03/2016 12:52</td>\n",
       "      <td>9800</td>\n",
       "      <td>suv</td>\n",
       "      <td>2004</td>\n",
       "      <td>auto</td>\n",
       "      <td>163</td>\n",
       "      <td>grand</td>\n",
       "      <td>125000</td>\n",
       "      <td>8</td>\n",
       "      <td>gasoline</td>\n",
       "      <td>jeep</td>\n",
       "      <td>NaN</td>\n",
       "      <td>14/03/2016 00:00</td>\n",
       "      <td>0</td>\n",
       "      <td>90480</td>\n",
       "      <td>05/04/2016 12:47</td>\n",
       "    </tr>\n",
       "    <tr>\n",
       "      <th>3</th>\n",
       "      <td>17/03/2016 16:54</td>\n",
       "      <td>1500</td>\n",
       "      <td>small</td>\n",
       "      <td>2001</td>\n",
       "      <td>manual</td>\n",
       "      <td>75</td>\n",
       "      <td>golf</td>\n",
       "      <td>150000</td>\n",
       "      <td>6</td>\n",
       "      <td>petrol</td>\n",
       "      <td>volkswagen</td>\n",
       "      <td>no</td>\n",
       "      <td>17/03/2016 00:00</td>\n",
       "      <td>0</td>\n",
       "      <td>91074</td>\n",
       "      <td>17/03/2016 17:40</td>\n",
       "    </tr>\n",
       "    <tr>\n",
       "      <th>4</th>\n",
       "      <td>31/03/2016 17:25</td>\n",
       "      <td>3600</td>\n",
       "      <td>small</td>\n",
       "      <td>2008</td>\n",
       "      <td>manual</td>\n",
       "      <td>69</td>\n",
       "      <td>fabia</td>\n",
       "      <td>90000</td>\n",
       "      <td>7</td>\n",
       "      <td>gasoline</td>\n",
       "      <td>skoda</td>\n",
       "      <td>no</td>\n",
       "      <td>31/03/2016 00:00</td>\n",
       "      <td>0</td>\n",
       "      <td>60437</td>\n",
       "      <td>06/04/2016 10:17</td>\n",
       "    </tr>\n",
       "  </tbody>\n",
       "</table>\n",
       "</div>"
      ],
      "text/plain": [
       "        DateCrawled  Price VehicleType  RegistrationYear Gearbox  Power  \\\n",
       "0  24/03/2016 11:52    480         NaN              1993  manual      0   \n",
       "1  24/03/2016 10:58  18300       coupe              2011  manual    190   \n",
       "2  14/03/2016 12:52   9800         suv              2004    auto    163   \n",
       "3  17/03/2016 16:54   1500       small              2001  manual     75   \n",
       "4  31/03/2016 17:25   3600       small              2008  manual     69   \n",
       "\n",
       "   Model  Mileage  RegistrationMonth  FuelType       Brand NotRepaired  \\\n",
       "0   golf   150000                  0    petrol  volkswagen         NaN   \n",
       "1    NaN   125000                  5  gasoline        audi         yes   \n",
       "2  grand   125000                  8  gasoline        jeep         NaN   \n",
       "3   golf   150000                  6    petrol  volkswagen          no   \n",
       "4  fabia    90000                  7  gasoline       skoda          no   \n",
       "\n",
       "        DateCreated  NumberOfPictures  PostalCode          LastSeen  \n",
       "0  24/03/2016 00:00                 0       70435  07/04/2016 03:16  \n",
       "1  24/03/2016 00:00                 0       66954  07/04/2016 01:46  \n",
       "2  14/03/2016 00:00                 0       90480  05/04/2016 12:47  \n",
       "3  17/03/2016 00:00                 0       91074  17/03/2016 17:40  \n",
       "4  31/03/2016 00:00                 0       60437  06/04/2016 10:17  "
      ]
     },
     "execution_count": 2,
     "metadata": {},
     "output_type": "execute_result"
    }
   ],
   "source": [
    "# Cargamos los datos desde la ruta proporcionada\n",
    "file_path = '/datasets/car_data.csv'\n",
    "df = pd.read_csv(file_path)\n",
    "\n",
    "# Mostramos las primeras filas para inspeccionar la estructura\n",
    "df.head()"
   ]
  },
  {
   "cell_type": "code",
   "execution_count": 3,
   "metadata": {},
   "outputs": [
    {
     "name": "stdout",
     "output_type": "stream",
     "text": [
      "El dataset tiene 354369 filas y 16 columnas.\n",
      "\n",
      "Información del dataset:\n",
      "<class 'pandas.core.frame.DataFrame'>\n",
      "RangeIndex: 354369 entries, 0 to 354368\n",
      "Data columns (total 16 columns):\n",
      " #   Column             Non-Null Count   Dtype \n",
      "---  ------             --------------   ----- \n",
      " 0   DateCrawled        354369 non-null  object\n",
      " 1   Price              354369 non-null  int64 \n",
      " 2   VehicleType        316879 non-null  object\n",
      " 3   RegistrationYear   354369 non-null  int64 \n",
      " 4   Gearbox            334536 non-null  object\n",
      " 5   Power              354369 non-null  int64 \n",
      " 6   Model              334664 non-null  object\n",
      " 7   Mileage            354369 non-null  int64 \n",
      " 8   RegistrationMonth  354369 non-null  int64 \n",
      " 9   FuelType           321474 non-null  object\n",
      " 10  Brand              354369 non-null  object\n",
      " 11  NotRepaired        283215 non-null  object\n",
      " 12  DateCreated        354369 non-null  object\n",
      " 13  NumberOfPictures   354369 non-null  int64 \n",
      " 14  PostalCode         354369 non-null  int64 \n",
      " 15  LastSeen           354369 non-null  object\n",
      "dtypes: int64(7), object(9)\n",
      "memory usage: 43.3+ MB\n",
      "\n",
      "Cantidad de valores nulos por columna:\n",
      "DateCrawled              0\n",
      "Price                    0\n",
      "VehicleType          37490\n",
      "RegistrationYear         0\n",
      "Gearbox              19833\n",
      "Power                    0\n",
      "Model                19705\n",
      "Mileage                  0\n",
      "RegistrationMonth        0\n",
      "FuelType             32895\n",
      "Brand                    0\n",
      "NotRepaired          71154\n",
      "DateCreated              0\n",
      "NumberOfPictures         0\n",
      "PostalCode               0\n",
      "LastSeen                 0\n",
      "dtype: int64\n",
      "\n",
      "Estadísticas básicas de las columnas numéricas:\n",
      "               Price  RegistrationYear          Power        Mileage  \\\n",
      "count  354369.000000     354369.000000  354369.000000  354369.000000   \n",
      "mean     4416.656776       2004.234448     110.094337  128211.172535   \n",
      "std      4514.158514         90.227958     189.850405   37905.341530   \n",
      "min         0.000000       1000.000000       0.000000    5000.000000   \n",
      "25%      1050.000000       1999.000000      69.000000  125000.000000   \n",
      "50%      2700.000000       2003.000000     105.000000  150000.000000   \n",
      "75%      6400.000000       2008.000000     143.000000  150000.000000   \n",
      "max     20000.000000       9999.000000   20000.000000  150000.000000   \n",
      "\n",
      "       RegistrationMonth  NumberOfPictures     PostalCode  \n",
      "count      354369.000000          354369.0  354369.000000  \n",
      "mean            5.714645               0.0   50508.689087  \n",
      "std             3.726421               0.0   25783.096248  \n",
      "min             0.000000               0.0    1067.000000  \n",
      "25%             3.000000               0.0   30165.000000  \n",
      "50%             6.000000               0.0   49413.000000  \n",
      "75%             9.000000               0.0   71083.000000  \n",
      "max            12.000000               0.0   99998.000000  \n"
     ]
    }
   ],
   "source": [
    "# Verificamos las dimensiones del dataset\n",
    "print(f\"El dataset tiene {df.shape[0]} filas y {df.shape[1]} columnas.\")\n",
    "\n",
    "# Verificamos las columnas y los tipos de datos\n",
    "print(\"\\nInformación del dataset:\")\n",
    "df.info()\n",
    "\n",
    "# Revisamos los valores nulos\n",
    "print(\"\\nCantidad de valores nulos por columna:\")\n",
    "print(df.isnull().sum())\n",
    "\n",
    "# Revisamos las estadísticas descriptivas\n",
    "print(\"\\nEstadísticas básicas de las columnas numéricas:\")\n",
    "print(df.describe())"
   ]
  },
  {
   "cell_type": "markdown",
   "metadata": {},
   "source": [
    "# 1.2 Limpieza de datos"
   ]
  },
  {
   "cell_type": "code",
   "execution_count": 4,
   "metadata": {},
   "outputs": [
    {
     "name": "stdout",
     "output_type": "stream",
     "text": [
      "Dataset limpio: 313324 filas y 14 columnas\n"
     ]
    }
   ],
   "source": [
    "# Eliminamos columnas irrelevantes\n",
    "df = df.drop(['NumberOfPictures', 'PostalCode'], axis=1)\n",
    "\n",
    "# Tratamos valores faltantes en columnas categóricas\n",
    "categorical_cols = ['VehicleType', 'Gearbox', 'Model', 'FuelType', 'Brand', 'NotRepaired']\n",
    "for col in categorical_cols:\n",
    "    df[col] = df[col].fillna('unknown')\n",
    "\n",
    "# Tratamos valores faltantes en columnas numéricas\n",
    "numeric_cols = ['Power', 'Mileage', 'Price']\n",
    "for col in numeric_cols:\n",
    "    df[col] = df[col].fillna(df[col].median())\n",
    "\n",
    "# Eliminamos duplicados\n",
    "df = df.drop_duplicates()\n",
    "\n",
    "# Corregimos valores inconsistentes\n",
    "# Filtramos registros con años de matriculación fuera de rango (entre 1900 y 2024)\n",
    "df = df[(df['RegistrationYear'] >= 1900) & (df['RegistrationYear'] <= 2024)]\n",
    "\n",
    "# Corregimos valores extremos en potencia y kilometraje\n",
    "df = df[(df['Power'] > 0) & (df['Power'] < 500)]  # Potencia en CV razonable\n",
    "df = df[(df['Mileage'] > 0) & (df['Mileage'] < 1_000_000)]  # Kilometraje razonable\n",
    "\n",
    "# Verificamos el dataset después de la limpieza\n",
    "print(f\"Dataset limpio: {df.shape[0]} filas y {df.shape[1]} columnas\")"
   ]
  },
  {
   "cell_type": "code",
   "execution_count": 5,
   "metadata": {},
   "outputs": [
    {
     "data": {
      "image/png": "[encoded data removed]",
      "text/plain": [
       "<Figure size 1000x600 with 1 Axes>"
      ]
     },
     "metadata": {},
     "output_type": "display_data"
    }
   ],
   "source": [
    "# Revisamos la distribución de precios\n",
    "plt.figure(figsize=(10, 6))\n",
    "sns.histplot(df['Price'], bins=50, kde=True)\n",
    "plt.title(\"Distribución de precios\")\n",
    "plt.xlabel(\"Precio (euros)\")\n",
    "plt.ylabel(\"Frecuencia\")\n",
    "plt.show()"
   ]
  },
  {
   "cell_type": "markdown",
   "metadata": {},
   "source": [
    "Preparamos los datos eliminando columnas irrelevantes, llenando valores faltantes, eliminando duplicados y corrigiendo valores inconsistentes. Además, visualizamos la distribución de precios para identificar patrones y posibles outliers. Esto asegura que el dataset sea confiable y listo para el análisis y modelado."
   ]
  },
  {
   "cell_type": "markdown",
   "metadata": {},
   "source": [
    "# 2 Entrenamiento del modelo "
   ]
  },
  {
   "cell_type": "code",
   "execution_count": 6,
   "metadata": {},
   "outputs": [
    {
     "name": "stdout",
     "output_type": "stream",
     "text": [
      "Conjunto de entrenamiento: (187994, 13)\n",
      "Conjunto de validación: (62665, 13)\n",
      "Conjunto de prueba: (62665, 13)\n"
     ]
    }
   ],
   "source": [
    "# Separar las variables predictoras (X) y el objetivo (y)\n",
    "X = df.drop('Price', axis=1)  # Todas las columnas excepto 'Price'\n",
    "y = df['Price']  # La columna objetivo\n",
    "\n",
    "# Codificar variables categóricas\n",
    "categorical_cols = X.select_dtypes(include=['object']).columns\n",
    "encoder = OrdinalEncoder(handle_unknown='use_encoded_value', unknown_value=-1)\n",
    "X[categorical_cols] = encoder.fit_transform(X[categorical_cols])\n",
    "\n",
    "# Dividir los datos en conjuntos de entrenamiento, validación y prueba\n",
    "X_train, X_temp, y_train, y_temp = train_test_split(X, y, test_size=0.4, random_state=42)\n",
    "X_valid, X_test, y_valid, y_test = train_test_split(X_temp, y_temp, test_size=0.5, random_state=42)\n",
    "\n",
    "# Verificamos las dimensiones de los conjuntos\n",
    "print(f\"Conjunto de entrenamiento: {X_train.shape}\")\n",
    "print(f\"Conjunto de validación: {X_valid.shape}\")\n",
    "print(f\"Conjunto de prueba: {X_test.shape}\")"
   ]
  },
  {
   "cell_type": "markdown",
   "metadata": {},
   "source": [
    " 2.1 Regresión lineal"
   ]
  },
  {
   "cell_type": "code",
   "execution_count": 10,
   "metadata": {},
   "outputs": [
    {
     "name": "stdout",
     "output_type": "stream",
     "text": [
      "RECM para la regresión lineal: 2961.73\n"
     ]
    }
   ],
   "source": [
    "# Inicializamos el modelo de regresión lineal\n",
    "linear_model = LinearRegression()\n",
    "\n",
    "# Entrenamos el modelo\n",
    "linear_model.fit(X_train, y_train)\n",
    "\n",
    "# Realizamos predicciones en el conjunto de validación\n",
    "y_pred_linear = linear_model.predict(X_valid)\n",
    "\n",
    "# Calculamos la métrica RECM\n",
    "rmse_linear = np.sqrt(mean_squared_error(y_valid, y_pred_linear))\n",
    "print(f\"RECM para la regresión lineal: {rmse_linear:.2f}\")"
   ]
  },
  {
   "cell_type": "markdown",
   "metadata": {},
   "source": [
    "2.2 Árbol de decisión"
   ]
  },
  {
   "cell_type": "code",
   "execution_count": 11,
   "metadata": {},
   "outputs": [
    {
     "name": "stdout",
     "output_type": "stream",
     "text": [
      "RECM para el árbol de decisión: 2350.90\n"
     ]
    }
   ],
   "source": [
    "# Inicializamos el modelo\n",
    "tree_model = DecisionTreeRegressor(random_state=42)\n",
    "\n",
    "# Entrenamos el modelo\n",
    "tree_model.fit(X_train, y_train)\n",
    "\n",
    "# Realizamos predicciones en el conjunto de validación\n",
    "y_pred_tree = tree_model.predict(X_valid)\n",
    "\n",
    "# Calculamos la métrica RECM\n",
    "rmse_tree = np.sqrt(mean_squared_error(y_valid, y_pred_tree))\n",
    "print(f\"RECM para el árbol de decisión: {rmse_tree:.2f}\")"
   ]
  },
  {
   "cell_type": "markdown",
   "metadata": {},
   "source": [
    "2.3 Bosque aleatorio"
   ]
  },
  {
   "cell_type": "code",
   "execution_count": 12,
   "metadata": {},
   "outputs": [
    {
     "name": "stdout",
     "output_type": "stream",
     "text": [
      "RECM para el bosque aleatorio: 1958.75\n"
     ]
    }
   ],
   "source": [
    "# Configuración rápida para el bosque aleatorio\n",
    "forest_model = RandomForestRegressor(\n",
    "    n_estimators=50,  # Menos árboles para pruebas rápidas\n",
    "    max_depth=10,     # Profundidad controlada\n",
    "    random_state=42,\n",
    "    n_jobs=-1\n",
    ")\n",
    "\n",
    "# Entrenamos el modelo\n",
    "forest_model.fit(X_train, y_train)\n",
    "\n",
    "# Realizamos predicciones en el conjunto de validación\n",
    "y_pred_forest = forest_model.predict(X_valid)\n",
    "\n",
    "# Calculamos la métrica RECM\n",
    "rmse_forest = np.sqrt(mean_squared_error(y_valid, y_pred_forest))\n",
    "print(f\"RECM para el bosque aleatorio: {rmse_forest:.2f}\")"
   ]
  },
  {
   "cell_type": "code",
   "execution_count": 18,
   "metadata": {},
   "outputs": [
    {
     "name": "stderr",
     "output_type": "stream",
     "text": [
      "/opt/conda/envs/python3/lib/python3.9/site-packages/lightgbm/basic.py:2065: UserWarning: Using categorical_feature in Dataset.\n",
      "  _log_warning('Using categorical_feature in Dataset.')\n"
     ]
    },
    {
     "name": "stdout",
     "output_type": "stream",
     "text": [
      "[LightGBM] [Warning] Accuracy may be bad since you didn't explicitly set num_leaves OR 2^max_depth > num_leaves. (num_leaves=31).\n",
      "[LightGBM] [Warning] Accuracy may be bad since you didn't explicitly set num_leaves OR 2^max_depth > num_leaves. (num_leaves=31).\n",
      "[LightGBM] [Warning] Auto-choosing row-wise multi-threading, the overhead of testing was 0.004989 seconds.\n",
      "You can set `force_row_wise=true` to remove the overhead.\n",
      "And if memory is not enough, you can set `force_col_wise=true`.\n",
      "[LightGBM] [Info] Total Bins 1216\n",
      "[LightGBM] [Info] Number of data points in the train set: 187994, number of used features: 13\n",
      "[LightGBM] [Warning] Accuracy may be bad since you didn't explicitly set num_leaves OR 2^max_depth > num_leaves. (num_leaves=31).\n",
      "[LightGBM] [Info] Start training from score 4710.958201\n",
      "Training until validation scores don't improve for 10 rounds\n",
      "Did not meet early stopping. Best iteration is:\n",
      "[100]\ttraining's rmse: 1747.32\tvalid_1's rmse: 1772.5\n",
      "RECM para LightGBM: 1772.50\n"
     ]
    }
   ],
   "source": [
    "# Configuración del dataset para LightGBM\n",
    "train_data = lgb.Dataset(X_train, label=y_train, categorical_feature=categorical_cols, free_raw_data=False)\n",
    "valid_data = lgb.Dataset(X_valid, label=y_valid, categorical_feature=categorical_cols, free_raw_data=False)\n",
    "\n",
    "# Configuración del modelo con ajustes mejorados\n",
    "params = {\n",
    "    'objective': 'regression',\n",
    "    'metric': 'rmse',\n",
    "    'learning_rate': 0.1,\n",
    "    'max_depth': 10,  # Profundidad máxima\n",
    "    'num_leaves': 31, # Relación correcta entre max_depth y num_leaves\n",
    "    'feature_pre_filter': False\n",
    "}\n",
    "\n",
    "# Usar callbacks para evitar verbose_eval\n",
    "callbacks = [lgb.early_stopping(stopping_rounds=10)]\n",
    "\n",
    "# Entrenamos el modelo\n",
    "lightgbm_model = lgb.train(\n",
    "    params,\n",
    "    train_data,\n",
    "    num_boost_round=100,\n",
    "    valid_sets=[train_data, valid_data],\n",
    "    callbacks=callbacks\n",
    ")\n",
    "\n",
    "# Realizamos predicciones\n",
    "y_pred_lightgbm = lightgbm_model.predict(X_valid)\n",
    "\n",
    "# Calculamos la métrica RECM\n",
    "rmse_lightgbm = np.sqrt(mean_squared_error(y_valid, y_pred_lightgbm))\n",
    "print(f\"RECM para LightGBM: {rmse_lightgbm:.2f}\")"
   ]
  },
  {
   "cell_type": "markdown",
   "metadata": {},
   "source": [
    "# 3 Velocidad y la calidad de los modelos"
   ]
  },
  {
   "cell_type": "code",
   "execution_count": 20,
   "metadata": {},
   "outputs": [
    {
     "name": "stdout",
     "output_type": "stream",
     "text": [
      "Regresión Lineal - RECM: 2961.73, Entrenamiento: 0.03s, Predicción: 0.00s\n"
     ]
    }
   ],
   "source": [
    "# Medir tiempo de entrenamiento\n",
    "start_time = time.time()\n",
    "linear_model.fit(X_train, y_train)\n",
    "train_time_linear = time.time() - start_time\n",
    "\n",
    "# Medir tiempo de predicción\n",
    "start_time = time.time()\n",
    "y_pred_linear = linear_model.predict(X_valid)\n",
    "predict_time_linear = time.time() - start_time\n",
    "\n",
    "# Calcular RECM\n",
    "rmse_linear = np.sqrt(mean_squared_error(y_valid, y_pred_linear))\n",
    "print(f\"Regresión Lineal - RECM: {rmse_linear:.2f}, Entrenamiento: {train_time_linear:.2f}s, Predicción: {predict_time_linear:.2f}s\")"
   ]
  },
  {
   "cell_type": "code",
   "execution_count": 21,
   "metadata": {},
   "outputs": [
    {
     "name": "stdout",
     "output_type": "stream",
     "text": [
      "Árbol de Decisión - RECM: 2350.90, Entrenamiento: 1.46s, Predicción: 0.03s\n"
     ]
    }
   ],
   "source": [
    "# Medir tiempo de entrenamiento\n",
    "start_time = time.time()\n",
    "tree_model.fit(X_train, y_train)\n",
    "train_time_tree = time.time() - start_time\n",
    "\n",
    "# Medir tiempo de predicción\n",
    "start_time = time.time()\n",
    "y_pred_tree = tree_model.predict(X_valid)\n",
    "predict_time_tree = time.time() - start_time\n",
    "\n",
    "# Calcular RECM\n",
    "rmse_tree = np.sqrt(mean_squared_error(y_valid, y_pred_tree))\n",
    "print(f\"Árbol de Decisión - RECM: {rmse_tree:.2f}, Entrenamiento: {train_time_tree:.2f}s, Predicción: {predict_time_tree:.2f}s\")"
   ]
  },
  {
   "cell_type": "code",
   "execution_count": 22,
   "metadata": {},
   "outputs": [
    {
     "name": "stdout",
     "output_type": "stream",
     "text": [
      "Bosque Aleatorio - RECM: 1958.75, Entrenamiento: 23.38s, Predicción: 0.22s\n"
     ]
    }
   ],
   "source": [
    "# Medir tiempo de entrenamiento\n",
    "start_time = time.time()\n",
    "forest_model.fit(X_train, y_train)\n",
    "train_time_forest = time.time() - start_time\n",
    "\n",
    "# Medir tiempo de predicción\n",
    "start_time = time.time()\n",
    "y_pred_forest = forest_model.predict(X_valid)\n",
    "predict_time_forest = time.time() - start_time\n",
    "\n",
    "# Calcular RECM\n",
    "rmse_forest = np.sqrt(mean_squared_error(y_valid, y_pred_forest))\n",
    "print(f\"Bosque Aleatorio - RECM: {rmse_forest:.2f}, Entrenamiento: {train_time_forest:.2f}s, Predicción: {predict_time_forest:.2f}s\")"
   ]
  },
  {
   "cell_type": "code",
   "execution_count": 23,
   "metadata": {},
   "outputs": [
    {
     "name": "stdout",
     "output_type": "stream",
     "text": [
      "[LightGBM] [Warning] Accuracy may be bad since you didn't explicitly set num_leaves OR 2^max_depth > num_leaves. (num_leaves=31).\n",
      "[LightGBM] [Warning] Accuracy may be bad since you didn't explicitly set num_leaves OR 2^max_depth > num_leaves. (num_leaves=31).\n",
      "[LightGBM] [Warning] Accuracy may be bad since you didn't explicitly set num_leaves OR 2^max_depth > num_leaves. (num_leaves=31).\n",
      "[LightGBM] [Warning] Accuracy may be bad since you didn't explicitly set num_leaves OR 2^max_depth > num_leaves. (num_leaves=31).\n",
      "[LightGBM] [Warning] Accuracy may be bad since you didn't explicitly set num_leaves OR 2^max_depth > num_leaves. (num_leaves=31).\n",
      "[LightGBM] [Warning] Auto-choosing col-wise multi-threading, the overhead of testing was 0.009560 seconds.\n",
      "You can set `force_col_wise=true` to remove the overhead.\n",
      "[LightGBM] [Info] Total Bins 1216\n",
      "[LightGBM] [Info] Number of data points in the train set: 187994, number of used features: 13\n",
      "[LightGBM] [Info] Start training from score 4710.958201\n"
     ]
    },
    {
     "name": "stderr",
     "output_type": "stream",
     "text": [
      "/opt/conda/envs/python3/lib/python3.9/site-packages/lightgbm/basic.py:2065: UserWarning: Using categorical_feature in Dataset.\n",
      "  _log_warning('Using categorical_feature in Dataset.')\n"
     ]
    },
    {
     "name": "stdout",
     "output_type": "stream",
     "text": [
      "Did not meet early stopping. Best iteration is:\n",
      "[100]\ttraining's rmse: 1747.32\tvalid_1's rmse: 1772.5\n",
      "LightGBM - RECM: 1772.50, Entrenamiento: 3.25s, Predicción: 0.39s\n"
     ]
    }
   ],
   "source": [
    "# Medir tiempo de entrenamiento\n",
    "start_time = time.time()\n",
    "lightgbm_model = lgb.train(\n",
    "    params,\n",
    "    train_data,\n",
    "    num_boost_round=100,\n",
    "    valid_sets=[train_data, valid_data],\n",
    "    callbacks=callbacks\n",
    ")\n",
    "train_time_lightgbm = time.time() - start_time\n",
    "\n",
    "# Medir tiempo de predicción\n",
    "start_time = time.time()\n",
    "y_pred_lightgbm = lightgbm_model.predict(X_valid)\n",
    "predict_time_lightgbm = time.time() - start_time\n",
    "\n",
    "# Calcular RECM\n",
    "rmse_lightgbm = np.sqrt(mean_squared_error(y_valid, y_pred_lightgbm))\n",
    "print(f\"LightGBM - RECM: {rmse_lightgbm:.2f}, Entrenamiento: {train_time_lightgbm:.2f}s, Predicción: {predict_time_lightgbm:.2f}s\")"
   ]
  },
  {
   "cell_type": "code",
   "execution_count": 24,
   "metadata": {},
   "outputs": [
    {
     "name": "stdout",
     "output_type": "stream",
     "text": [
      "              Modelo         RECM  Tiempo de Entrenamiento (s)  \\\n",
      "0   Regresión Lineal  2961.726687                     0.030119   \n",
      "1  Árbol de Decisión  2350.904422                     1.464376   \n",
      "2   Bosque Aleatorio  1958.751836                    23.379060   \n",
      "3           LightGBM  1772.498642                     3.247685   \n",
      "\n",
      "   Tiempo de Predicción (s)  \n",
      "0                  0.002787  \n",
      "1                  0.026746  \n",
      "2                  0.217830  \n",
      "3                  0.388677  \n"
     ]
    }
   ],
   "source": [
    "# Crear una tabla comparativa con pandas\n",
    "import pandas as pd\n",
    "\n",
    "results = pd.DataFrame({\n",
    "    'Modelo': ['Regresión Lineal', 'Árbol de Decisión', 'Bosque Aleatorio', 'LightGBM'],\n",
    "    'RECM': [rmse_linear, rmse_tree, rmse_forest, rmse_lightgbm],\n",
    "    'Tiempo de Entrenamiento (s)': [train_time_linear, train_time_tree, train_time_forest, train_time_lightgbm],\n",
    "    'Tiempo de Predicción (s)': [predict_time_linear, predict_time_tree, predict_time_forest, predict_time_lightgbm]\n",
    "})\n",
    "\n",
    "# Mostrar la tabla\n",
    "print(results)"
   ]
  },
  {
   "cell_type": "markdown",
   "metadata": {},
   "source": [
    "# Conclusión"
   ]
  },
  {
   "cell_type": "markdown",
   "metadata": {},
   "source": [
    "Después de evaluar múltiples modelos de predicción para determinar el valor de mercado de coches de segunda mano, se encontró que LightGBM ofrece el mejor balance entre calidad y velocidad y se consideró el más efectivo. Con un RECM de 1772.50, este modelo superó a la Regresión Lineal y el Árbol de Decisión y el Bosque Aleatorio porque fue más preciso. Su tiempo de entrenamiento y predicción es más eficiente que el del Bosque Aleatorio porque fue de 3.25 segundos y 0.39 segundos y el Bosque Aleatorio tuvo un RECM de 1958.75 y necesitó 23.38 segundos para entrenar. La Regresión Lineal y el Árbol de Decisión, aunque rápidos, mostraron una calidad inferior y tuvieron RECM de 2961.73 y 2350.90 respectivamente. Por lo tanto, se recomienda que LightGBM sea utilizado para la app de Rusty Bargain porque permite predicciones precisas y eficientes que cumplen con los objetivos del proyecto."
   ]
  },
  {
   "cell_type": "markdown",
   "metadata": {},
   "source": [
    "# Lista de control"
   ]
  },
  {
   "cell_type": "markdown",
   "metadata": {},
   "source": [
    "Escribe 'x' para verificar. Luego presiona Shift+Enter"
   ]
  },
  {
   "cell_type": "markdown",
   "metadata": {},
   "source": [
    "- [x]  Jupyter Notebook está abierto\n",
    "- [x]  El código no tiene errores\n",
    "    - [x]  Las celdas con el código han sido colocadas en orden de ejecución\n",
    "    - [x]  Los datos han sido descargados y preparados\n",
    "    - [x]  Los modelos han sido entrenados\n",
    "- [x]  Se realizó el análisis de velocidad y calidad de los modelos"
   ]
  }
 ],
 "metadata": {
  "ExecuteTimeLog": [
   {
    "duration": 2980,
    "start_time": "2024-11-18T16:06:44.854Z"
   },
   {
    "duration": 562,
    "start_time": "2024-11-18T16:07:07.933Z"
   },
   {
    "duration": 260,
    "start_time": "2024-11-18T16:07:28.150Z"
   },
   {
    "duration": 560,
    "start_time": "2024-11-18T16:09:42.441Z"
   },
   {
    "duration": 1285,
    "start_time": "2024-11-18T16:09:56.927Z"
   },
   {
    "duration": 145,
    "start_time": "2024-11-18T17:41:50.557Z"
   },
   {
    "duration": 286,
    "start_time": "2024-11-18T17:42:40.295Z"
   },
   {
    "duration": 998,
    "start_time": "2024-11-18T17:43:08.691Z"
   },
   {
    "duration": 418,
    "start_time": "2024-11-18T17:43:09.692Z"
   },
   {
    "duration": 259,
    "start_time": "2024-11-18T17:43:10.112Z"
   },
   {
    "duration": 442,
    "start_time": "2024-11-18T17:43:10.373Z"
   },
   {
    "duration": 1132,
    "start_time": "2024-11-18T17:43:10.818Z"
   },
   {
    "duration": 248,
    "start_time": "2024-11-18T17:43:11.952Z"
   },
   {
    "duration": 17,
    "start_time": "2024-11-18T17:52:19.542Z"
   },
   {
    "duration": 15,
    "start_time": "2024-11-18T17:52:34.714Z"
   },
   {
    "duration": 1137,
    "start_time": "2024-11-18T17:53:26.410Z"
   },
   {
    "duration": 42,
    "start_time": "2024-11-18T17:53:30.959Z"
   },
   {
    "duration": 16,
    "start_time": "2024-11-18T17:54:14.938Z"
   },
   {
    "duration": 1079,
    "start_time": "2024-11-18T18:14:28.255Z"
   },
   {
    "duration": 40,
    "start_time": "2024-11-18T18:15:01.607Z"
   },
   {
    "duration": 1508,
    "start_time": "2024-11-18T18:28:41.192Z"
   },
   {
    "duration": 8,
    "start_time": "2024-11-18T18:29:37.788Z"
   },
   {
    "duration": 2057,
    "start_time": "2024-11-18T18:36:15.792Z"
   },
   {
    "duration": 3,
    "start_time": "2024-11-18T18:46:52.007Z"
   },
   {
    "duration": 1032,
    "start_time": "2024-11-18T19:27:04.006Z"
   },
   {
    "duration": 411,
    "start_time": "2024-11-18T19:27:05.040Z"
   },
   {
    "duration": 244,
    "start_time": "2024-11-18T19:27:05.453Z"
   },
   {
    "duration": 441,
    "start_time": "2024-11-18T19:27:05.701Z"
   },
   {
    "duration": 1127,
    "start_time": "2024-11-18T19:27:06.145Z"
   },
   {
    "duration": 1126,
    "start_time": "2024-11-18T19:27:07.274Z"
   },
   {
    "duration": 71,
    "start_time": "2024-11-18T19:27:08.401Z"
   },
   {
    "duration": 1598,
    "start_time": "2024-11-18T19:27:08.474Z"
   },
   {
    "duration": 53780,
    "start_time": "2024-11-18T19:27:10.074Z"
   },
   {
    "duration": 40,
    "start_time": "2024-11-18T19:29:19.099Z"
   },
   {
    "duration": 1505,
    "start_time": "2024-11-18T19:29:33.406Z"
   },
   {
    "duration": 23628,
    "start_time": "2024-11-18T19:29:57.605Z"
   },
   {
    "duration": 23,
    "start_time": "2024-11-18T19:42:21.529Z"
   },
   {
    "duration": 494,
    "start_time": "2024-11-18T19:43:05.062Z"
   },
   {
    "duration": 4,
    "start_time": "2024-11-18T20:16:32.808Z"
   },
   {
    "duration": 4,
    "start_time": "2024-11-18T20:16:41.032Z"
   },
   {
    "duration": 3559,
    "start_time": "2024-11-18T20:17:14.311Z"
   },
   {
    "duration": 3528,
    "start_time": "2024-11-18T20:33:02.365Z"
   },
   {
    "duration": 3,
    "start_time": "2024-11-18T20:47:33.693Z"
   },
   {
    "duration": 36,
    "start_time": "2024-11-18T20:47:49.634Z"
   },
   {
    "duration": 1496,
    "start_time": "2024-11-18T20:48:08.866Z"
   },
   {
    "duration": 23600,
    "start_time": "2024-11-18T20:48:22.036Z"
   },
   {
    "duration": 3641,
    "start_time": "2024-11-18T20:48:45.639Z"
   },
   {
    "duration": 5,
    "start_time": "2024-11-18T20:53:24.995Z"
   }
  ],
  "kernelspec": {
   "display_name": "Python 3 (ipykernel)",
   "language": "python",
   "name": "python3"
  },
  "language_info": {
   "codemirror_mode": {
    "name": "ipython",
    "version": 3
   },
   "file_extension": ".py",
   "mimetype": "text/x-python",
   "name": "python",
   "nbconvert_exporter": "python",
   "pygments_lexer": "ipython3",
   "version": "3.9.19"
  },
  "toc": {
   "base_numbering": 1,
   "nav_menu": {},
   "number_sections": true,
   "sideBar": true,
   "skip_h1_title": true,
   "title_cell": "Table of Contents",
   "title_sidebar": "Contents",
   "toc_cell": false,
   "toc_position": {},
   "toc_section_display": true,
   "toc_window_display": false
  }
 },
 "nbformat": 4,
 "nbformat_minor": 2
}
